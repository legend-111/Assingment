{
 "cells": [
  {
   "cell_type": "code",
   "execution_count": 1,
   "id": "938878ef-7790-4206-a6b0-addf3419349d",
   "metadata": {},
   "outputs": [],
   "source": [
    "import numpy as np"
   ]
  },
  {
   "cell_type": "code",
   "execution_count": 3,
   "id": "6a55ba83-fb08-4072-b788-7f53bf830db6",
   "metadata": {},
   "outputs": [
    {
     "name": "stdout",
     "output_type": "stream",
     "text": [
      "[-10  -9  -8  -7  -6  -5  -4  -3  -2  -1   0   1   2   3   4   5   6   7\n",
      "   8   9]\n"
     ]
    }
   ],
   "source": [
    "# Q 1 = Create an array of integers between -10 and 10\n",
    "a=np.arange(-10 ,10)\n",
    "print(a)"
   ]
  },
  {
   "cell_type": "code",
   "execution_count": 6,
   "id": "72e9d189-39bb-4ce8-8faf-992f0caa2d31",
   "metadata": {},
   "outputs": [
    {
     "name": "stdout",
     "output_type": "stream",
     "text": [
      "[ 3  4  5  6  7  8  9 10 11 12 13 14 15 16 17 18 19 20]\n"
     ]
    }
   ],
   "source": [
    "# Q 2 = Run the following code to create a NumPy array D\n",
    "#D = np.array(range(18)) + 3\n",
    "\n",
    "# (a) = Extract every other value from array D starting from the 2nd value through the 10th value. Store the result in a variable called x.\n",
    "\n",
    "D = np.array(range(18)) + 3\n",
    "print(D)\n"
   ]
  },
  {
   "cell_type": "code",
   "execution_count": 8,
   "id": "decadba1-a355-410f-95e3-1da89014cd38",
   "metadata": {},
   "outputs": [
    {
     "name": "stdout",
     "output_type": "stream",
     "text": [
      "[ 5  6  7  8  9 10 11 12]\n"
     ]
    }
   ],
   "source": [
    "x=D[2:10]\n",
    "print(x)"
   ]
  },
  {
   "cell_type": "code",
   "execution_count": 10,
   "id": "2d9d8810-6173-4764-8b7c-c9e4538f2378",
   "metadata": {},
   "outputs": [
    {
     "name": "stdout",
     "output_type": "stream",
     "text": [
      "[12 11 10  9  8  7  6  5]\n"
     ]
    }
   ],
   "source": [
    "# (b) =  Extract every other value from array D starting from the 10th value through the 2nd value. Store the result in a variable called y.\n",
    "x=D[2:10]\n",
    "y=x[::-1]\n",
    "print(y)"
   ]
  },
  {
   "cell_type": "code",
   "execution_count": 11,
   "id": "08f78a68-fa50-42f2-9d0c-58329248d721",
   "metadata": {},
   "outputs": [
    {
     "data": {
      "text/plain": [
       "array([20, 19, 18, 17, 16, 15, 14, 13, 12, 11, 10,  9,  8,  7,  6,  5,  4,\n",
       "        3])"
      ]
     },
     "execution_count": 11,
     "metadata": {},
     "output_type": "execute_result"
    }
   ],
   "source": [
    "# (c) = Create a variable z that contains all of the values in D in reverse order.\n",
    "z=D[::-1]\n",
    "z"
   ]
  },
  {
   "cell_type": "code",
   "execution_count": null,
   "id": "f517eb80-63c7-4a66-ad4e-519beb589c7c",
   "metadata": {},
   "outputs": [],
   "source": [
    "# Q3 = How are NumPy Arrays better than Lists in Python? \n",
    "#answer = consumes less memory.\n",
    "#        fast as compared to the python List.\n",
    "#        convenient to use.\n",
    "\n",
    "-------------------------------------------------------------------------------------------------------------------------------------------\n",
    "#Q4 = Explain the data types supported by Numpy.\n",
    "#answer = bool = It represents the boolean value indicating true or false. It is stored as a byte.\n",
    "#         int  = It is the default type of integer. It is identical to long type in C that contains 64 bit or 32-bit integer.\n",
    "#         intc = It is similar to the C integer (c int) as it represents 32 or 64-bit int.\n",
    "#         intp = It represents the integers which are used for indexing.\n",
    "#         int8 = It is the 8-bit integer identical to a byte. The range of the value is -128 to 127.\n",
    "#         int16= It is the 2-byte (16-bit) integer. The range is -32768 to 32767.\n",
    "#         int32 =It is the 4-byte (32-bit) integer. The range is -2147483648 to 2147483647.\n",
    "#         int64 =It is the 8-byte (64-bit) integer. The range is -9223372036854775808 to 9223372036854775807.\n",
    "#         uint8 = It is the 1-byte (8-bit) unsigned integer.\n",
    "#         uint16 = It is the 2-byte (16-bit) unsigned integer.\n",
    "#         uint32 = It is the 4-byte (32-bit) unsigned integer.\n",
    "#         uint64 = It is the 8 bytes (64-bit) unsigned integer.\n",
    "#         float = It is identical to float64.\n",
    "#         float16 = It is the half-precision float. 5 bits are reserved for the exponent. 10 bits are reserved for mantissa, and 1 bit is reserved for the sign.\n",
    "#         float32 = It is a single precision float. 8 bits are reserved for the exponent, 23 bits are reserved for mantissa, and 1 bit is reserved for the sign.\n",
    "#         float64 = It is the double precision float. 11 bits are reserved for the exponent, 52 bits are reserved for mantissa, 1 bit is used for the sign.\n",
    "#         complex = It is identical to complex128.\n",
    "#         complex64 = It is used to represent the complex number where real and imaginary part shares 32 bits each.\n",
    "#         complex128 = It is used to represent the complex number where real and imaginary part shares 64 bits each"
   ]
  }
 ],
 "metadata": {
  "kernelspec": {
   "display_name": "Python 3",
   "language": "python",
   "name": "python3"
  },
  "language_info": {
   "codemirror_mode": {
    "name": "ipython",
    "version": 3
   },
   "file_extension": ".py",
   "mimetype": "text/x-python",
   "name": "python",
   "nbconvert_exporter": "python",
   "pygments_lexer": "ipython3",
   "version": "3.7.8"
  }
 },
 "nbformat": 4,
 "nbformat_minor": 5
}
